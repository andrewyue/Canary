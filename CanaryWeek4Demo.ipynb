{
 "cells": [
  {
   "cell_type": "markdown",
   "metadata": {},
   "source": [
    "# Metro Canary"
   ]
  },
  {
   "cell_type": "markdown",
   "metadata": {},
   "source": [
    "<img src = 'Canary.png'>"
   ]
  },
  {
   "cell_type": "markdown",
   "metadata": {},
   "source": [
    "#### Required Modules"
   ]
  },
  {
   "cell_type": "code",
   "execution_count": 1,
   "metadata": {
    "collapsed": false
   },
   "outputs": [],
   "source": [
    "%matplotlib inline\n",
    "import matplotlib\n",
    "import seaborn as sns\n",
    "import matplotlib.pyplot as plt\n",
    "import pandas as pd\n",
    "import numpy as np\n",
    "import re\n",
    "import pickle\n",
    "matplotlib.pylab.rcParams['figure.figsize'] = (14.0, 8.0)"
   ]
  },
  {
   "cell_type": "markdown",
   "metadata": {},
   "source": [
    "## Load/parse the data"
   ]
  },
  {
   "cell_type": "markdown",
   "metadata": {},
   "source": [
    "#### Load in Tweets as a DataFrame"
   ]
  },
  {
   "cell_type": "code",
   "execution_count": 2,
   "metadata": {
    "collapsed": false
   },
   "outputs": [],
   "source": [
    "with open('tweets_unique092815.pkl','r') as f:\n",
    "    tweets092815 = pickle.load(f)\n",
    "with open('tweets_unique092315.pkl','r') as f:\n",
    "    tweets092315 = pickle.load(f)\n",
    "with open('tweets_unique.pkl','r') as f:\n",
    "    tweets = pickle.load(f)\n",
    "with open('oldtweets.pkl','r') as f:\n",
    "    oldtweets = pickle.load(f)"
   ]
  },
  {
   "cell_type": "code",
   "execution_count": 3,
   "metadata": {
    "collapsed": false
   },
   "outputs": [],
   "source": [
    "timestamp = tweets092815['created_at'].values\n",
    "ts = [pd.Timestamp(t).tz_convert('US/Eastern') for t in timestamp]\n",
    "tweets092815.index = ts"
   ]
  },
  {
   "cell_type": "code",
   "execution_count": 4,
   "metadata": {
    "collapsed": true
   },
   "outputs": [],
   "source": [
    "tweets092815 = tweets092815[['id','text']]"
   ]
  },
  {
   "cell_type": "code",
   "execution_count": 5,
   "metadata": {
    "collapsed": true
   },
   "outputs": [],
   "source": [
    "timestamp = tweets092315['created_at'].values\n",
    "ts = [pd.Timestamp(t).tz_convert('US/Eastern') for t in timestamp]\n",
    "tweets092315.index = ts"
   ]
  },
  {
   "cell_type": "code",
   "execution_count": 6,
   "metadata": {
    "collapsed": true
   },
   "outputs": [],
   "source": [
    "tweets092315 = tweets092315[['id','text']]"
   ]
  },
  {
   "cell_type": "code",
   "execution_count": 7,
   "metadata": {
    "collapsed": false
   },
   "outputs": [],
   "source": [
    "timestamp = tweets['created_at'].values\n",
    "ts = [pd.Timestamp(t).tz_convert('US/Eastern') for t in timestamp]\n",
    "tweets.index = ts"
   ]
  },
  {
   "cell_type": "code",
   "execution_count": 8,
   "metadata": {
    "collapsed": false
   },
   "outputs": [],
   "source": [
    "tweets = tweets[['id','text']]"
   ]
  },
  {
   "cell_type": "code",
   "execution_count": 9,
   "metadata": {
    "collapsed": false
   },
   "outputs": [],
   "source": [
    "tweets_unique = tweets092815.append(tweets092315.append(tweets.append(oldtweets)))"
   ]
  },
  {
   "cell_type": "code",
   "execution_count": 10,
   "metadata": {
    "collapsed": true
   },
   "outputs": [],
   "source": [
    "tweets_unique = tweets_unique.drop_duplicates(subset='id')\n",
    "tweets_unique = tweets_unique.sort('id')"
   ]
  },
  {
   "cell_type": "markdown",
   "metadata": {},
   "source": [
    "#### Set time-binning for Tweets and incidents"
   ]
  },
  {
   "cell_type": "code",
   "execution_count": 11,
   "metadata": {
    "collapsed": true
   },
   "outputs": [],
   "source": [
    "start = pd.Timestamp('2015-07-11 14:45:00')\n",
    "finish = pd.Timestamp('2015-09-24 19:15:00')\n",
    "time_index = pd.date_range(start,finish,freq='10t')"
   ]
  },
  {
   "cell_type": "markdown",
   "metadata": {},
   "source": [
    "#### Load in Metro Rail Service Reports (http://www.wmata.com/rail/service_reports/viewReportArchive.cfm) as a DataFrame"
   ]
  },
  {
   "cell_type": "code",
   "execution_count": 12,
   "metadata": {
    "collapsed": false
   },
   "outputs": [],
   "source": [
    "with open('incidents092815.pkl') as f:\n",
    "    incidents = pickle.load(f)"
   ]
  },
  {
   "cell_type": "code",
   "execution_count": 13,
   "metadata": {
    "collapsed": false
   },
   "outputs": [],
   "source": [
    "incidents = incidents[str(start): str(finish)]\n",
    "incidents['delay'] = incidents['delay'].replace(to_replace='', value=0)\n",
    "incidents = incidents[incidents['delay'] >= 0]\n",
    "incidents = incidents[incidents['cause'] != 'did not operate']\n",
    "incidents['delay_start'] = incidents.index\n",
    "incidents['delay_end'] = [incidents.index[i] + pd.DateOffset(minutes=int(incidents.delay[i])) for i in range(len(incidents))]"
   ]
  },
  {
   "cell_type": "code",
   "execution_count": 14,
   "metadata": {
    "collapsed": true
   },
   "outputs": [],
   "source": [
    "incidents_time_index = pd.date_range(start,finish,freq='1t')"
   ]
  },
  {
   "cell_type": "code",
   "execution_count": 15,
   "metadata": {
    "collapsed": false
   },
   "outputs": [],
   "source": [
    "incidents_yes_no = []\n",
    "for i in range(len(incidents_time_index)):\n",
    "    teststamp = incidents_time_index[i]\n",
    "    incidents_yes_no.append(len(incidents[(incidents['delay_start'] <= teststamp) & (incidents['delay_end'] >= teststamp)]))"
   ]
  },
  {
   "cell_type": "code",
   "execution_count": 16,
   "metadata": {
    "collapsed": true
   },
   "outputs": [],
   "source": [
    "incident_dict = {'timestamp' : incidents_time_index, 'activeincidents' : incidents_yes_no}\n",
    "incident_DF = pd.DataFrame(incident_dict)\n",
    "incident_DF.index = incident_DF.timestamp"
   ]
  },
  {
   "cell_type": "markdown",
   "metadata": {},
   "source": [
    "#### Define functions related to parsing Tweets and Service Reports"
   ]
  },
  {
   "cell_type": "code",
   "execution_count": 17,
   "metadata": {
    "collapsed": false
   },
   "outputs": [],
   "source": [
    "def grabTweetText(tS):\n",
    "    tweetText = []\n",
    "    if (len(tS) == 0):\n",
    "        return ''\n",
    "    else:\n",
    "        tweetText = (tS.to_string(columns=['text'],index=False,header=False,index_names=False))\n",
    "        return tweetText\n",
    "\n",
    "def getIncidentInfo(iS):\n",
    "    if np.sum(iS['activeincidents'] == 0):\n",
    "        incidentInfo = 0.\n",
    "    else:\n",
    "        incidentInfo = 1.\n",
    "    return incidentInfo\n",
    "\n",
    "def tweets_by_category(tweet):\n",
    "    # remove usernames, hyperlinks, numbers, etc.\n",
    "    # tweets = re.sub('[@][A-Za-z0-9]+','', tweets)\n",
    "    tweet = re.sub('http://[A-Za-z\\.\\/0-9]+','', tweet)\n",
    "    tweet = re.sub('https://[A-Za-z\\.\\/0-9]+','', tweet)\n",
    "    tweet = re.sub('[0-9]+', '', tweet)\n",
    "    tweet = tweet.replace('\\'','')                                                       \n",
    "    words = tweet.lower().split()\n",
    "    # define tallies - words related to delays, words related to metro stations or lines, and words related to\n",
    "    # people tweeting to the various complaint clearinghouses.\n",
    "    delay_words = ['delay','delays','residual','tracking','single', 'minute', 'minutes', 'min', 'mins', 'midday', 'mid-day', 'wait', 'waiting', 'service']\n",
    "    line_words = ['red','orange','blue','silver','yellow','green','line','station','train', 'RL', 'OL', 'BL', 'SL', 'YL', 'GL']\n",
    "    angry_twits_words = ['RT','@wmata','@unsuckdcmetro','@metrorailinfo', '@metrofailinfo', '@fixwmata', '@dcmetrosucks','@fixmetro', '@drgridlock', '#wmata', '#unsuckdcmetro', '#fixwmata']\n",
    "    ok_words = ['normal', 'resume', 'resuming']\n",
    "    irrelevant_wmata_words = ['bus', 'route']\n",
    "    delay_related_tweets = 0\n",
    "    line_related_tweets = 0\n",
    "    angry_twits_related_tweets = 0\n",
    "    ok_related_tweets = 0\n",
    "    irrelevant_wmata_tweets = 0  \n",
    "    if any(word in delay_words for word in words):\n",
    "        delay_related_tweets += 1\n",
    "    if any(word in line_words for word in words):\n",
    "        line_related_tweets += 1\n",
    "    if any(word in angry_twits_words for word in words):\n",
    "        angry_twits_related_tweets += 1 \n",
    "    if any(word in ok_words for word in words):\n",
    "        ok_related_tweets += 1\n",
    "    if any(word in irrelevant_wmata_words for word in words):\n",
    "        irrelevant_wmata_tweets += 1\n",
    "    return [delay_related_tweets, line_related_tweets, angry_twits_related_tweets, ok_related_tweets, irrelevant_wmata_tweets]\n",
    "\n",
    "def tweets_to_words(tweets):\n",
    "    # remove usernames, hyperlinks, numbers, etc.\n",
    "    # tweets = re.sub('[@][A-Za-z0-9]+','', tweets)\n",
    "    tweets = re.sub(r'@([^\\s]+)', r'\\1', tweets)\n",
    "    tweets = re.sub(r'#([^\\s]+)', r'\\1', tweets)\n",
    "    tweets = re.sub('http://[A-Za-z\\.\\/0-9]+','', tweets)\n",
    "    tweets = re.sub('https://[A-Za-z\\.\\/0-9]+','', tweets)\n",
    "    tweets = re.sub('[0-9]+', '', tweets)\n",
    "    tweets = tweets.replace('\\n','')\n",
    "    tweets = tweets.replace('\\'','')                          \n",
    "    words = tweets.lower().split()                             \n",
    "    return(\" \".join(words))   \n",
    "\n",
    "def categorizeTweets(tS):\n",
    "    catSums = {'delay' : 0, 'line' : 0 , 'twit' : 0, 'ok' : 0, 'irrel': 0}\n",
    "    for tweet in tS['text']:\n",
    "        tweetSum = tweets_by_category(tweet)\n",
    "        catSums['delay'] += tweetSum[0]\n",
    "        catSums['line'] += tweetSum[1]\n",
    "        catSums['twit'] += tweetSum[2]\n",
    "        catSums['ok'] += tweetSum[3]\n",
    "        catSums['irrel'] += tweetSum[4]\n",
    "    return catSums\n"
   ]
  },
  {
   "cell_type": "markdown",
   "metadata": {},
   "source": [
    "#### Bin number of Tweets, number of incidents, the text content of Tweets, and pertinent information about incidents"
   ]
  },
  {
   "cell_type": "code",
   "execution_count": 18,
   "metadata": {
    "collapsed": false
   },
   "outputs": [],
   "source": [
    "numTweets = []\n",
    "tweetText = []\n",
    "numIncidents = []\n",
    "incidentInfo = []\n",
    "numDelayTweets = []\n",
    "numLineTweets = []\n",
    "numTwitTweets = []\n",
    "numOKTweets = []\n",
    "numIrrelTweets = []"
   ]
  },
  {
   "cell_type": "code",
   "execution_count": 19,
   "metadata": {
    "collapsed": false
   },
   "outputs": [],
   "source": [
    "for i in range(1,len(time_index)):\n",
    "    tweetSlice = tweets_unique[str(time_index[i-1]):str(time_index[i])]\n",
    "    incidentSlice = incident_DF[str(time_index[i-1]):str(time_index[i])]\n",
    "    numTweets.append(len(tweetSlice))\n",
    "    tweetText.append(grabTweetText(tweetSlice))\n",
    "    numIncidents.append(np.sum(incidentSlice['activeincidents']))\n",
    "    incidentInfo.append(getIncidentInfo(incidentSlice))\n",
    "    categoryTweetHolder = categorizeTweets(tweetSlice)\n",
    "    numDelayTweets.append(categoryTweetHolder['delay'])\n",
    "    numLineTweets.append(categoryTweetHolder['line'])\n",
    "    numTwitTweets.append(categoryTweetHolder['twit'])\n",
    "    numOKTweets.append(categoryTweetHolder['ok'])\n",
    "    numIrrelTweets.append(categoryTweetHolder['irrel'])"
   ]
  },
  {
   "cell_type": "markdown",
   "metadata": {},
   "source": [
    "#### Plot number of Tweets and incidents as a function of time"
   ]
  },
  {
   "cell_type": "markdown",
   "metadata": {},
   "source": [
    "#### Search for occurrences of words of interest"
   ]
  },
  {
   "cell_type": "code",
   "execution_count": 20,
   "metadata": {
    "collapsed": false
   },
   "outputs": [],
   "source": [
    "DRW = []\n",
    "LRW = []\n",
    "ATRW = []\n",
    "ORW = []\n",
    "IW = []\n",
    "for tT in tweetText:\n",
    "    drwnum, lrwnum, atrwnum, orwnum, iwnum = tweets_by_category(tT)\n",
    "    DRW.append(drwnum)\n",
    "    LRW.append(lrwnum)\n",
    "    ATRW.append(atrwnum)\n",
    "    ORW.append(orwnum)\n",
    "    IW.append(iwnum)"
   ]
  },
  {
   "cell_type": "code",
   "execution_count": 21,
   "metadata": {
    "collapsed": false
   },
   "outputs": [],
   "source": [
    "fracDelayTweets = [0] * len(numDelayTweets)\n",
    "fracLineTweets = [0] * len(numDelayTweets)\n",
    "fracTwitTweets = [0] * len(numDelayTweets)\n",
    "fracOKTweets = [0] * len(numDelayTweets)\n",
    "fracIrrelTweets = [0] * len(numDelayTweets)\n",
    "\n",
    "for i in range(len(numDelayTweets)):\n",
    "    totalTopicalTweets = float(numDelayTweets[i] + numLineTweets[i] + numTwitTweets[i] + numOKTweets[i] + numIrrelTweets[i])\n",
    "    if(totalTopicalTweets != 0):\n",
    "        fracDelayTweets[i] = float(numDelayTweets[i]) / totalTopicalTweets\n",
    "        fracLineTweets[i] = float(numLineTweets[i]) / totalTopicalTweets\n",
    "        fracTwitTweets[i] = float(numTwitTweets[i]) / totalTopicalTweets\n",
    "        fracOKTweets[i] = float(numOKTweets[i]) / totalTopicalTweets\n",
    "        fracIrrelTweets[i] = float(numIrrelTweets[i]) / totalTopicalTweets\n",
    "    else:\n",
    "        pass"
   ]
  },
  {
   "cell_type": "code",
   "execution_count": 22,
   "metadata": {
    "collapsed": true
   },
   "outputs": [
    {
     "name": "stderr",
     "output_type": "stream",
     "text": [
      "/opt/conda/lib/python2.7/site-packages/IPython/kernel/__main__.py:10: SettingWithCopyWarning: \n",
      "A value is trying to be set on a copy of a slice from a DataFrame\n",
      "\n",
      "See the the caveats in the documentation: http://pandas.pydata.org/pandas-docs/stable/indexing.html#indexing-view-versus-copy\n",
      "/opt/conda/lib/python2.7/site-packages/IPython/kernel/__main__.py:11: SettingWithCopyWarning: \n",
      "A value is trying to be set on a copy of a slice from a DataFrame\n",
      "\n",
      "See the the caveats in the documentation: http://pandas.pydata.org/pandas-docs/stable/indexing.html#indexing-view-versus-copy\n",
      "/opt/conda/lib/python2.7/site-packages/IPython/kernel/__main__.py:12: SettingWithCopyWarning: \n",
      "A value is trying to be set on a copy of a slice from a DataFrame\n",
      "\n",
      "See the the caveats in the documentation: http://pandas.pydata.org/pandas-docs/stable/indexing.html#indexing-view-versus-copy\n",
      "/opt/conda/lib/python2.7/site-packages/IPython/kernel/__main__.py:13: SettingWithCopyWarning: \n",
      "A value is trying to be set on a copy of a slice from a DataFrame\n",
      "\n",
      "See the the caveats in the documentation: http://pandas.pydata.org/pandas-docs/stable/indexing.html#indexing-view-versus-copy\n",
      "/opt/conda/lib/python2.7/site-packages/IPython/kernel/__main__.py:14: SettingWithCopyWarning: \n",
      "A value is trying to be set on a copy of a slice from a DataFrame\n",
      "\n",
      "See the the caveats in the documentation: http://pandas.pydata.org/pandas-docs/stable/indexing.html#indexing-view-versus-copy\n"
     ]
    }
   ],
   "source": [
    "df_dict = {'totalTweets' : numTweets, 'DRW' : DRW, 'LRW' : LRW, 'ATRW' : ATRW, 'NDT' : numDelayTweets,\n",
    "           'NLT' : numLineTweets, 'NTT' : numTwitTweets, 'FDT' : fracDelayTweets, 'FLT' : fracLineTweets,\n",
    "           'FTT' : fracTwitTweets, 'FOT' : fracOKTweets, 'FIT' : fracIrrelTweets, 'IncidentInfo' : incidentInfo,\n",
    "           'text' : tweetText}\n",
    "training_DF = pd.DataFrame(df_dict)\n",
    "training_DF.index = time_index[1:len(time_index)]\n",
    "training_DF['hour'] = training_DF.index.hour\n",
    "training_DF['dayofweek'] = training_DF.index.dayofweek\n",
    "training_DF['cut'] = True\n",
    "training_DF['cut']['2015-07-11 14:45:00' : '2015-07-14 11:00:00'] = False\n",
    "training_DF['cut']['2015-07-25 19:15:00' : '2015-07-29 12:30:00'] = False\n",
    "training_DF['cut']['2015-08-07 03:45:00' : '2015-08-09 10:15:00'] = False\n",
    "training_DF['cut']['2015-08-24 14:40:00' : '2015-08-25 16:30:00'] = False\n",
    "training_DF['cut']['2015-09-03 12:10:00' : '2015-09-06 13:40:00'] = False\n",
    "training_DF = training_DF[training_DF['cut'] == True]"
   ]
  },
  {
   "cell_type": "markdown",
   "metadata": {},
   "source": [
    "## Train a Random Forest classifier"
   ]
  },
  {
   "cell_type": "code",
   "execution_count": 23,
   "metadata": {
    "collapsed": false
   },
   "outputs": [
    {
     "name": "stdout",
     "output_type": "stream",
     "text": [
      "Fraction of data containing delays: 0.015\n"
     ]
    }
   ],
   "source": [
    "print \"Fraction of data containing delays: %.3f\" % float(sum(training_DF['IncidentInfo'])/len(training_DF))"
   ]
  },
  {
   "cell_type": "markdown",
   "metadata": {},
   "source": [
    "### We are confronted with the problem of rare events - this can be addressed through a class-weighted Random Forest:  http://statistics.berkeley.edu/sites/default/files/tech-reports/666.pdf"
   ]
  },
  {
   "cell_type": "code",
   "execution_count": 24,
   "metadata": {
    "collapsed": false
   },
   "outputs": [],
   "source": [
    "x_train_data = training_DF.drop(['IncidentInfo','ATRW','LRW','DRW','NLT','NTT','NDT','cut','text'],axis=1) # \n",
    "y_train_data = training_DF['IncidentInfo']"
   ]
  },
  {
   "cell_type": "code",
   "execution_count": 25,
   "metadata": {
    "collapsed": false
   },
   "outputs": [],
   "source": [
    "from sklearn.cross_validation import train_test_split\n",
    "x_train, x_test, y_train, y_test = train_test_split(x_train_data, y_train_data, test_size=0.1, random_state=1337)"
   ]
  },
  {
   "cell_type": "code",
   "execution_count": 26,
   "metadata": {
    "collapsed": false
   },
   "outputs": [],
   "source": [
    "from sklearn.ensemble import RandomForestClassifier\n",
    "from sklearn.grid_search import GridSearchCV\n",
    "clf = RandomForestClassifier(class_weight={0 : 1, 1 : int(len(y_train)/sum(y_train))})\n",
    "parameters = {'n_estimators' : [2**n for n in range(0,8)]}\n",
    "gscv = GridSearchCV(clf, parameters, scoring='precision')"
   ]
  },
  {
   "cell_type": "code",
   "execution_count": 27,
   "metadata": {
    "collapsed": true
   },
   "outputs": [
    {
     "data": {
      "text/plain": [
       "GridSearchCV(cv=None, error_score='raise',\n",
       "       estimator=RandomForestClassifier(bootstrap=True, class_weight={0: 1, 1: 71},\n",
       "            criterion='gini', max_depth=None, max_features='auto',\n",
       "            max_leaf_nodes=None, min_samples_leaf=1, min_samples_split=2,\n",
       "            min_weight_fraction_leaf=0.0, n_estimators=10, n_jobs=1,\n",
       "            oob_score=False, random_state=None, verbose=0,\n",
       "            warm_start=False),\n",
       "       fit_params={}, iid=True, loss_func=None, n_jobs=1,\n",
       "       param_grid={'n_estimators': [1, 2, 4, 8, 16, 32, 64, 128]},\n",
       "       pre_dispatch='2*n_jobs', refit=True, score_func=None,\n",
       "       scoring='precision', verbose=0)"
      ]
     },
     "execution_count": 27,
     "metadata": {},
     "output_type": "execute_result"
    }
   ],
   "source": [
    "gscv.fit(x_train, y_train)"
   ]
  },
  {
   "cell_type": "code",
   "execution_count": 28,
   "metadata": {
    "collapsed": false
   },
   "outputs": [
    {
     "data": {
      "text/plain": [
       "RandomForestClassifier(bootstrap=True, class_weight={0: 1, 1: 71},\n",
       "            criterion='gini', max_depth=None, max_features='auto',\n",
       "            max_leaf_nodes=None, min_samples_leaf=1, min_samples_split=2,\n",
       "            min_weight_fraction_leaf=0.0, n_estimators=2, n_jobs=1,\n",
       "            oob_score=False, random_state=None, verbose=0,\n",
       "            warm_start=False)"
      ]
     },
     "execution_count": 28,
     "metadata": {},
     "output_type": "execute_result"
    }
   ],
   "source": [
    "gscv.best_estimator_"
   ]
  },
  {
   "cell_type": "code",
   "execution_count": 29,
   "metadata": {
    "collapsed": true
   },
   "outputs": [
    {
     "data": {
      "text/plain": [
       "RandomForestClassifier(bootstrap=True, class_weight={0: 1, 1: 71},\n",
       "            criterion='gini', max_depth=None, max_features='auto',\n",
       "            max_leaf_nodes=None, min_samples_leaf=1, min_samples_split=2,\n",
       "            min_weight_fraction_leaf=0.0, n_estimators=2, n_jobs=1,\n",
       "            oob_score=False, random_state=None, verbose=0,\n",
       "            warm_start=False)"
      ]
     },
     "execution_count": 29,
     "metadata": {},
     "output_type": "execute_result"
    }
   ],
   "source": [
    "gscv.best_estimator_.fit(x_train, y_train)"
   ]
  },
  {
   "cell_type": "markdown",
   "metadata": {},
   "source": [
    "## Make a prediction!"
   ]
  },
  {
   "cell_type": "code",
   "execution_count": 30,
   "metadata": {
    "collapsed": false
   },
   "outputs": [],
   "source": [
    "y_pred = gscv.best_estimator_.predict(x_test)"
   ]
  },
  {
   "cell_type": "code",
   "execution_count": 31,
   "metadata": {
    "collapsed": false
   },
   "outputs": [
    {
     "name": "stdout",
     "output_type": "stream",
     "text": [
      "predicted 56.0 actual 21.0\n",
      "Accuracy: 0.922991071429\n",
      "Precision: 0.190476190476\n",
      "Recall: 0.0714285714286\n",
      "F1: 0.103896103896\n"
     ]
    }
   ],
   "source": [
    "from sklearn import metrics\n",
    "print 'predicted', sum(y_pred), 'actual', sum(y_test)\n",
    "print \"Accuracy:\", metrics.accuracy_score(y_pred, y_test)\n",
    "print \"Precision:\", metrics.precision_score(y_pred, y_test)\n",
    "print \"Recall:\", metrics.recall_score(y_pred, y_test)\n",
    "print \"F1:\", metrics.f1_score(y_pred, y_test)"
   ]
  },
  {
   "cell_type": "code",
   "execution_count": 32,
   "metadata": {
    "collapsed": false
   },
   "outputs": [
    {
     "data": {
      "text/plain": [
       "(0, 2)"
      ]
     },
     "execution_count": 32,
     "metadata": {},
     "output_type": "execute_result"
    },
    {
     "data": {
      "image/png": "[encoded data removed]",
      "text/plain": [
       "<matplotlib.figure.Figure at 0x7f555e1f3710>"
      ]
     },
     "metadata": {},
     "output_type": "display_data"
    }
   ],
   "source": [
    "y_dict = {'pred' : y_pred, 'test' : y_test.values}\n",
    "y_DF = pd.DataFrame(y_dict)\n",
    "y_DF.index = y_test.index\n",
    "time = y_DF.index.values\n",
    "predicted = y_DF['pred'].values\n",
    "actual = y_DF['test'].values\n",
    "pred_plot, = plt.plot(time,predicted,'.',color='r')\n",
    "act_plot, = plt.plot(time,actual,'.',color='k')\n",
    "\n",
    "plt.legend([pred_plot, act_plot], ['predicted delays', 'actual delays'],loc='upper left')\n",
    "plt.ylim(0,2)"
   ]
  },
  {
   "cell_type": "markdown",
   "metadata": {},
   "source": [
    "## OK, which features seem to matter the most?"
   ]
  },
  {
   "cell_type": "code",
   "execution_count": 33,
   "metadata": {
    "collapsed": false
   },
   "outputs": [
    {
     "data": {
      "text/plain": [
       "[<matplotlib.text.Text at 0x7f5510763950>,\n",
       " <matplotlib.text.Text at 0x7f551e2ce290>,\n",
       " <matplotlib.text.Text at 0x7f5523a65a10>,\n",
       " <matplotlib.text.Text at 0x7f552396d1d0>,\n",
       " <matplotlib.text.Text at 0x7f552396d950>,\n",
       " <matplotlib.text.Text at 0x7f5522abf110>,\n",
       " <matplotlib.text.Text at 0x7f5522abf890>,\n",
       " <matplotlib.text.Text at 0x7f5522ad0050>]"
      ]
     },
     "execution_count": 33,
     "metadata": {},
     "output_type": "execute_result"
    },
    {
     "data": {
      "image/png": "[encoded data removed]",
      "text/plain": [
       "<matplotlib.figure.Figure at 0x7f551e152250>"
      ]
     },
     "metadata": {},
     "output_type": "display_data"
    }
   ],
   "source": [
    "x_bar = x_train_data.columns.tolist()\n",
    "y_bar = gscv.best_estimator_.feature_importances_\n",
    "bar_dict = {'x' : x_bar , 'y' : y_bar}\n",
    "bar_DF = pd.DataFrame(bar_dict)\n",
    "ax = bar_DF.plot(kind='bar')\n",
    "ax.set_xticklabels(x_bar, rotation=0)"
   ]
  },
  {
   "cell_type": "code",
   "execution_count": 34,
   "metadata": {
    "collapsed": true
   },
   "outputs": [],
   "source": [
    "import dill\n",
    "with open('mcEst.pkl', 'w') as f:\n",
    "    dill.dump(gscv.best_estimator_, f)"
   ]
  },
  {
   "cell_type": "markdown",
   "metadata": {},
   "source": [
    "## Next step - return to CountVectorizer"
   ]
  },
  {
   "cell_type": "code",
   "execution_count": 35,
   "metadata": {
    "collapsed": false
   },
   "outputs": [],
   "source": [
    "x_tweets = training_DF['text'].values\n",
    "x_tweets = [tweets_to_words(x) for x in x_tweets]\n",
    "from sklearn.feature_extraction.text import CountVectorizer\n",
    "vectorizer = CountVectorizer(analyzer = \"word\",   \\\n",
    "                             tokenizer = None,    \\\n",
    "                             preprocessor = None, \\\n",
    "                             stop_words = 'english',   \\\n",
    "                             max_features = 40000,\n",
    "                             ngram_range = (1,2))\n",
    "X_CV = vectorizer.fit_transform(x_tweets)\n",
    "X_CV = X_CV.toarray()\n",
    "Y = training_DF['IncidentInfo'].values\n",
    "from sklearn.cross_validation import train_test_split\n",
    "x_train, x_test, y_train, y_test = train_test_split(X_CV, Y, test_size=0.1, random_state=1337)"
   ]
  },
  {
   "cell_type": "code",
   "execution_count": null,
   "metadata": {
    "collapsed": true
   },
   "outputs": [],
   "source": []
  }
 ],
 "metadata": {
  "kernelspec": {
   "display_name": "Python 2",
   "language": "python",
   "name": "python2"
  },
  "language_info": {
   "codemirror_mode": {
    "name": "ipython",
    "version": 2
   },
   "file_extension": ".py",
   "mimetype": "text/x-python",
   "name": "python",
   "nbconvert_exporter": "python",
   "pygments_lexer": "ipython2",
   "version": "2.7.10"
  }
 },
 "nbformat": 4,
 "nbformat_minor": 0
}
