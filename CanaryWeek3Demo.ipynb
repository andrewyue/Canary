{
 "cells": [
  {
   "cell_type": "markdown",
   "metadata": {},
   "source": [
    "# Metro Canary"
   ]
  },
  {
   "cell_type": "markdown",
   "metadata": {},
   "source": [
    "#### Required Modules"
   ]
  },
  {
   "cell_type": "code",
   "execution_count": 1,
   "metadata": {
    "collapsed": false
   },
   "outputs": [],
   "source": [
    "%matplotlib inline\n",
    "import matplotlib\n",
    "import seaborn as sns\n",
    "import matplotlib.pyplot as plt\n",
    "import pandas as pd\n",
    "import numpy as np\n",
    "import re\n",
    "import pickle\n",
    "matplotlib.pylab.rcParams['figure.figsize'] = (14.0, 8.0)"
   ]
  },
  {
   "cell_type": "markdown",
   "metadata": {},
   "source": [
    "## Load/parse the data"
   ]
  },
  {
   "cell_type": "markdown",
   "metadata": {},
   "source": [
    "#### Load in Tweets as a DataFrame"
   ]
  },
  {
   "cell_type": "code",
   "execution_count": 2,
   "metadata": {
    "collapsed": false
   },
   "outputs": [],
   "source": [
    "with open('tweets_unique092315.pkl','r') as f:\n",
    "    tweets092315 = pickle.load(f)\n",
    "with open('tweets_unique.pkl','r') as f:\n",
    "    tweets = pickle.load(f)\n",
    "with open('oldtweets.pkl','r') as f:\n",
    "    oldtweets = pickle.load(f)"
   ]
  },
  {
   "cell_type": "code",
   "execution_count": 3,
   "metadata": {
    "collapsed": true
   },
   "outputs": [],
   "source": [
    "timestamp = tweets092315['created_at'].values\n",
    "ts = [pd.Timestamp(t).tz_convert('US/Eastern') for t in timestamp]\n",
    "tweets092315.index = ts"
   ]
  },
  {
   "cell_type": "code",
   "execution_count": 4,
   "metadata": {
    "collapsed": true
   },
   "outputs": [],
   "source": [
    "tweets092315 = tweets092315[['id','text']]"
   ]
  },
  {
   "cell_type": "code",
   "execution_count": 5,
   "metadata": {
    "collapsed": false
   },
   "outputs": [],
   "source": [
    "timestamp = tweets['created_at'].values\n",
    "ts = [pd.Timestamp(t).tz_convert('US/Eastern') for t in timestamp]\n",
    "tweets.index = ts"
   ]
  },
  {
   "cell_type": "code",
   "execution_count": 6,
   "metadata": {
    "collapsed": false
   },
   "outputs": [],
   "source": [
    "tweets = tweets[['id','text']]"
   ]
  },
  {
   "cell_type": "code",
   "execution_count": 7,
   "metadata": {
    "collapsed": false
   },
   "outputs": [],
   "source": [
    "tweets_unique = tweets092315.append(tweets.append(oldtweets))"
   ]
  },
  {
   "cell_type": "code",
   "execution_count": 8,
   "metadata": {
    "collapsed": true
   },
   "outputs": [],
   "source": [
    "tweets_unique = tweets_unique.drop_duplicates(subset='id')\n",
    "tweets_unique = tweets_unique.sort('id')"
   ]
  },
  {
   "cell_type": "markdown",
   "metadata": {},
   "source": [
    "#### Set time-binning for Tweets and incidents"
   ]
  },
  {
   "cell_type": "code",
   "execution_count": 9,
   "metadata": {
    "collapsed": true
   },
   "outputs": [],
   "source": [
    "start = pd.Timestamp('2015-07-11 14:45:00')\n",
    "finish = pd.Timestamp('2015-09-21 23:45:00')\n",
    "time_index = pd.date_range(start,finish,freq='5t')"
   ]
  },
  {
   "cell_type": "markdown",
   "metadata": {},
   "source": [
    "#### Load in Metro Rail Service Reports (http://www.wmata.com/rail/service_reports/viewReportArchive.cfm) as a DataFrame"
   ]
  },
  {
   "cell_type": "code",
   "execution_count": 10,
   "metadata": {
    "collapsed": false
   },
   "outputs": [],
   "source": [
    "with open('incidents092115.pkl') as f:\n",
    "    incidents = pickle.load(f)"
   ]
  },
  {
   "cell_type": "code",
   "execution_count": 11,
   "metadata": {
    "collapsed": false
   },
   "outputs": [],
   "source": [
    "incidents = incidents[str(start): str(finish)]\n",
    "incidents['delay'] = incidents['delay'].replace(to_replace='', value=0)\n",
    "incidents = incidents[incidents['delay'] >= 5]\n",
    "incidents = incidents[incidents['cause'] != 'did not operate']\n",
    "incidents['delay_start'] = incidents.index\n",
    "incidents['delay_end'] = [incidents.index[i] + pd.DateOffset(minutes=int(incidents.delay[i])) for i in range(len(incidents))]"
   ]
  },
  {
   "cell_type": "code",
   "execution_count": 12,
   "metadata": {
    "collapsed": true
   },
   "outputs": [],
   "source": [
    "incidents_time_index = pd.date_range(start,finish,freq='1t')"
   ]
  },
  {
   "cell_type": "code",
   "execution_count": 13,
   "metadata": {
    "collapsed": false
   },
   "outputs": [],
   "source": [
    "incidents_yes_no = []\n",
    "for i in range(len(incidents_time_index)):\n",
    "    teststamp = incidents_time_index[i]\n",
    "    incidents_yes_no.append(len(incidents[(incidents['delay_start'] <= teststamp) & (incidents['delay_end'] >= teststamp)]))"
   ]
  },
  {
   "cell_type": "code",
   "execution_count": 14,
   "metadata": {
    "collapsed": true
   },
   "outputs": [],
   "source": [
    "incident_dict = {'timestamp' : incidents_time_index, 'activeincidents' : incidents_yes_no}\n",
    "incident_DF = pd.DataFrame(incident_dict)\n",
    "incident_DF.index = incident_DF.timestamp"
   ]
  },
  {
   "cell_type": "markdown",
   "metadata": {},
   "source": [
    "#### Define functions related to parsing Tweets and Service Reports"
   ]
  },
  {
   "cell_type": "code",
   "execution_count": 15,
   "metadata": {
    "collapsed": false
   },
   "outputs": [],
   "source": [
    "def grabTweetText(tS):\n",
    "    tweetText = []\n",
    "    if (len(tS) == 0):\n",
    "        return ''\n",
    "    else:\n",
    "        tweetText = (tS.to_string(columns=['text'],index=False,header=False,index_names=False))\n",
    "        return tweetText\n",
    "\n",
    "def getIncidentInfo(iS):\n",
    "    if np.sum(iS['activeincidents'] == 0):\n",
    "        incidentInfo = 0.\n",
    "    else:\n",
    "        incidentInfo = 1.\n",
    "    return incidentInfo\n",
    "\n",
    "def tweets_by_category(tweet):\n",
    "    # remove usernames, hyperlinks, numbers, etc.\n",
    "    # tweets = re.sub('[@][A-Za-z0-9]+','', tweets)\n",
    "    tweet = re.sub('http://[A-Za-z\\.\\/0-9]+','', tweet)\n",
    "    tweet = re.sub('https://[A-Za-z\\.\\/0-9]+','', tweet)\n",
    "    tweet = re.sub('[0-9]+', '', tweet)\n",
    "    tweet = tweet.replace('\\'','')                                                       \n",
    "    words = tweet.lower().split()\n",
    "    # define tallies - words related to delays, words related to metro stations or lines, and words related to\n",
    "    # people tweeting to the various complaint clearinghouses.\n",
    "    delay_words = ['delay','delays','residual','tracking','single', 'minute', 'minutes']\n",
    "    line_words = ['red','orange','blue','silver','yellow','green','line','station','train']\n",
    "    angry_twits_words = ['RT','@wmata','@unsuckdcmetro','@metrorailinfo', '@metrofailinfo', '@fixwmata']\n",
    "    angry_twits_words += ['@dcmetrosucks','@fixmetro', '@drgridlock' '#wmata', '#unsuckdcmetro', '#fixwmata']\n",
    "    delay_related_tweets = 0\n",
    "    line_related_tweets = 0\n",
    "    angry_twits_related_tweets = 0\n",
    "    if any(word in delay_words for word in words):\n",
    "        delay_related_tweets += 1 \n",
    "    \n",
    "    if any(word in line_words for word in words):\n",
    "        line_related_tweets += 1 \n",
    "    \n",
    "    if any(word in angry_twits_words for word in words):\n",
    "        angry_twits_related_tweets += 1 \n",
    "        \n",
    "    return [delay_related_tweets, line_related_tweets, angry_twits_related_tweets]\n",
    "\n",
    "def categorizeTweets(tS):\n",
    "    catSums = {'delay' : 0, 'line' : 0 , 'twit' : 0}\n",
    "    for tweet in tS['text']:\n",
    "        tweetSum = tweets_by_category(tweet)\n",
    "        catSums['delay'] += tweetSum[0]\n",
    "        catSums['line'] += tweetSum[1]\n",
    "        catSums['twit'] += tweetSum[2]\n",
    "    return catSums\n"
   ]
  },
  {
   "cell_type": "markdown",
   "metadata": {},
   "source": [
    "#### Bin number of Tweets, number of incidents, the text content of Tweets, and pertinent information about incidents"
   ]
  },
  {
   "cell_type": "code",
   "execution_count": 16,
   "metadata": {
    "collapsed": false
   },
   "outputs": [],
   "source": [
    "numTweets = []\n",
    "tweetText = []\n",
    "numIncidents = []\n",
    "incidentInfo = []\n",
    "numDelayTweets = []\n",
    "numLineTweets = []\n",
    "numTwitTweets = []"
   ]
  },
  {
   "cell_type": "code",
   "execution_count": 17,
   "metadata": {
    "collapsed": false
   },
   "outputs": [],
   "source": [
    "for i in range(1,len(time_index)):\n",
    "    tweetSlice = tweets_unique[str(time_index[i-1]):str(time_index[i])]\n",
    "    incidentSlice = incident_DF[str(time_index[i-1]):str(time_index[i])]\n",
    "    numTweets.append(len(tweetSlice))\n",
    "    tweetText.append(grabTweetText(tweetSlice))\n",
    "    numIncidents.append(np.sum(incidentSlice['activeincidents']))\n",
    "    incidentInfo.append(getIncidentInfo(incidentSlice))\n",
    "    categoryTweetHolder = categorizeTweets(tweetSlice)\n",
    "    numDelayTweets.append(categoryTweetHolder['delay'])\n",
    "    numLineTweets.append(categoryTweetHolder['line'])\n",
    "    numTwitTweets.append(categoryTweetHolder['twit'])"
   ]
  },
  {
   "cell_type": "markdown",
   "metadata": {},
   "source": [
    "#### Plot number of Tweets and incidents as a function of time"
   ]
  },
  {
   "cell_type": "code",
   "execution_count": 18,
   "metadata": {
    "collapsed": false,
    "scrolled": false
   },
   "outputs": [
    {
     "data": {
      "text/plain": [
       "<matplotlib.legend.Legend at 0x7fbed711d690>"
      ]
     },
     "execution_count": 18,
     "metadata": {},
     "output_type": "execute_result"
    },
    {
     "data": {
      "image/png": "[encoded data removed]",
      "text/plain": [
       "<matplotlib.figure.Figure at 0x7fbec1bd02d0>"
      ]
     },
     "metadata": {},
     "output_type": "display_data"
    }
   ],
   "source": [
    "plt.subplot(211)\n",
    "nT_plot, = plt.plot(time_index[1:len(time_index)],numTweets, color = 'k')\n",
    "plt.subplot(212)\n",
    "nI_plot, = plt.plot(time_index[1:len(time_index)],numIncidents, color ='g')\n",
    "plt.subplot(211)\n",
    "plt.legend([nT_plot, nI_plot], ['number of Tweets', 'number of 5+ minute delays'],loc='upper right')"
   ]
  },
  {
   "cell_type": "markdown",
   "metadata": {},
   "source": [
    "#### Define targeted word searches (e.g. 'delay')"
   ]
  },
  {
   "cell_type": "code",
   "execution_count": 19,
   "metadata": {
    "collapsed": false
   },
   "outputs": [],
   "source": [
    "def tweets_word_frequency( tweets ):\n",
    "    # remove usernames, hyperlinks, numbers, etc.\n",
    "    # tweets = re.sub('[@][A-Za-z0-9]+','', tweets)\n",
    "    tweets = re.sub('http://[A-Za-z\\.\\/0-9]+','', tweets)\n",
    "    tweets = re.sub('https://[A-Za-z\\.\\/0-9]+','', tweets)\n",
    "    tweets = re.sub('[0-9]+', '', tweets)\n",
    "    tweets = tweets.replace('\\'','')                          \n",
    "    words = tweets.lower().split()                             \n",
    "    # define tallies - words related to delays, words related to metro stations or lines, and words related to\n",
    "    # people tweeting to the various complaint clearinghouses.\n",
    "    delay_related_words = 0\n",
    "    line_related_words = 0\n",
    "    angry_twits_related_words = 0\n",
    "    for word in words:\n",
    "        if word in ['delay','delays','residual','tracking','single', 'late']:\n",
    "            delay_related_words += 1\n",
    "        elif word in ['red','orange','blue','silver','yellow','green','line','station','train']:\n",
    "            line_related_words += 1\n",
    "        elif word in ['RT','@wmata','@unsuckdcmetro','@metrorailinfo','@fixwmata','@dcmetrosucks','@fixmetro']:\n",
    "            angry_twits_related_words += 1\n",
    "        else:\n",
    "            pass\n",
    "    return delay_related_words, line_related_words, angry_twits_related_words"
   ]
  },
  {
   "cell_type": "markdown",
   "metadata": {},
   "source": [
    "#### Then perform the search"
   ]
  },
  {
   "cell_type": "code",
   "execution_count": 20,
   "metadata": {
    "collapsed": false
   },
   "outputs": [],
   "source": [
    "DRW = []\n",
    "LRW = []\n",
    "ATRW = []\n",
    "for tT in tweetText:\n",
    "    drwnum, lrwnum, atrwnum = tweets_by_category(tT)\n",
    "    DRW.append(drwnum)\n",
    "    LRW.append(lrwnum)\n",
    "    ATRW.append(atrwnum)"
   ]
  },
  {
   "cell_type": "code",
   "execution_count": 21,
   "metadata": {
    "collapsed": false
   },
   "outputs": [],
   "source": [
    "fracDelayTweets = [0] * len(numDelayTweets)\n",
    "fracLineTweets = [0] * len(numDelayTweets)\n",
    "fracTwitTweets = [0] * len(numDelayTweets)\n",
    "\n",
    "for i in range(len(numDelayTweets)):\n",
    "    totalTopicalTweets = float(numDelayTweets[i] + numLineTweets[i] + numTwitTweets[i])\n",
    "    if(totalTopicalTweets != 0):\n",
    "        fracDelayTweets[i] = float(numDelayTweets[i]) / totalTopicalTweets\n",
    "        fracLineTweets[i] = float(numLineTweets[i]) / totalTopicalTweets\n",
    "        fracTwitTweets[i] = float(numTwitTweets[i]) / totalTopicalTweets\n",
    "    else:\n",
    "        pass"
   ]
  },
  {
   "cell_type": "code",
   "execution_count": 22,
   "metadata": {
    "collapsed": true
   },
   "outputs": [
    {
     "name": "stderr",
     "output_type": "stream",
     "text": [
      "/opt/conda/lib/python2.7/site-packages/IPython/kernel/__main__.py:6: SettingWithCopyWarning: \n",
      "A value is trying to be set on a copy of a slice from a DataFrame\n",
      "\n",
      "See the the caveats in the documentation: http://pandas.pydata.org/pandas-docs/stable/indexing.html#indexing-view-versus-copy\n",
      "/opt/conda/lib/python2.7/site-packages/IPython/kernel/__main__.py:7: SettingWithCopyWarning: \n",
      "A value is trying to be set on a copy of a slice from a DataFrame\n",
      "\n",
      "See the the caveats in the documentation: http://pandas.pydata.org/pandas-docs/stable/indexing.html#indexing-view-versus-copy\n",
      "/opt/conda/lib/python2.7/site-packages/IPython/kernel/__main__.py:8: SettingWithCopyWarning: \n",
      "A value is trying to be set on a copy of a slice from a DataFrame\n",
      "\n",
      "See the the caveats in the documentation: http://pandas.pydata.org/pandas-docs/stable/indexing.html#indexing-view-versus-copy\n",
      "/opt/conda/lib/python2.7/site-packages/IPython/kernel/__main__.py:9: SettingWithCopyWarning: \n",
      "A value is trying to be set on a copy of a slice from a DataFrame\n",
      "\n",
      "See the the caveats in the documentation: http://pandas.pydata.org/pandas-docs/stable/indexing.html#indexing-view-versus-copy\n",
      "/opt/conda/lib/python2.7/site-packages/IPython/kernel/__main__.py:10: SettingWithCopyWarning: \n",
      "A value is trying to be set on a copy of a slice from a DataFrame\n",
      "\n",
      "See the the caveats in the documentation: http://pandas.pydata.org/pandas-docs/stable/indexing.html#indexing-view-versus-copy\n"
     ]
    }
   ],
   "source": [
    "training_DF = pd.DataFrame({'totalTweets' : numTweets, 'DRW' : DRW, 'LRW' : LRW, 'ATRW' : ATRW, 'NDT' : numDelayTweets, 'NLT' : numLineTweets, 'NTT' : numTwitTweets, 'FDT' : fracDelayTweets, 'FLT' : fracLineTweets, 'FTT' : fracTwitTweets, 'IncidentInfo' : incidentInfo})\n",
    "training_DF.index = time_index[1:len(time_index)]\n",
    "training_DF['hour'] = training_DF.index.hour\n",
    "training_DF['dayofweek'] = training_DF.index.dayofweek\n",
    "training_DF['cut'] = True\n",
    "training_DF['cut']['2015-07-11 14:45:00' : '2015-07-14 11:00:00'] = False\n",
    "training_DF['cut']['2015-07-25 19:15:00' : '2015-07-29 12:30:00'] = False\n",
    "training_DF['cut']['2015-08-07 03:45:00' : '2015-08-09 10:15:00'] = False\n",
    "training_DF['cut']['2015-08-24 14:40:00' : '2015-08-25 16:30:00'] = False\n",
    "training_DF['cut']['2015-09-03 12:10:00' : '2015-09-06 13:40:00'] = False\n",
    "training_DF = training_DF[training_DF['cut'] == True]"
   ]
  },
  {
   "cell_type": "markdown",
   "metadata": {},
   "source": [
    "## A look at the training data"
   ]
  },
  {
   "cell_type": "code",
   "execution_count": 42,
   "metadata": {
    "collapsed": false
   },
   "outputs": [
    {
     "data": {
      "text/html": [
       "<div>\n",
       "<table border=\"1\" class=\"dataframe\">\n",
       "  <thead>\n",
       "    <tr style=\"text-align: right;\">\n",
       "      <th></th>\n",
       "      <th>FDT</th>\n",
       "      <th>FLT</th>\n",
       "      <th>FTT</th>\n",
       "      <th>totalTweets</th>\n",
       "      <th>hour</th>\n",
       "      <th>dayofweek</th>\n",
       "    </tr>\n",
       "  </thead>\n",
       "  <tbody>\n",
       "    <tr>\n",
       "      <th>2015-09-08 10:00:00</th>\n",
       "      <td>0.428571</td>\n",
       "      <td>0.428571</td>\n",
       "      <td>0.142857</td>\n",
       "      <td>4</td>\n",
       "      <td>10</td>\n",
       "      <td>1</td>\n",
       "    </tr>\n",
       "    <tr>\n",
       "      <th>2015-09-08 10:05:00</th>\n",
       "      <td>0.500000</td>\n",
       "      <td>0.500000</td>\n",
       "      <td>0.000000</td>\n",
       "      <td>3</td>\n",
       "      <td>10</td>\n",
       "      <td>1</td>\n",
       "    </tr>\n",
       "    <tr>\n",
       "      <th>2015-09-08 10:10:00</th>\n",
       "      <td>0.421053</td>\n",
       "      <td>0.421053</td>\n",
       "      <td>0.157895</td>\n",
       "      <td>9</td>\n",
       "      <td>10</td>\n",
       "      <td>1</td>\n",
       "    </tr>\n",
       "    <tr>\n",
       "      <th>2015-09-08 10:15:00</th>\n",
       "      <td>0.428571</td>\n",
       "      <td>0.428571</td>\n",
       "      <td>0.142857</td>\n",
       "      <td>5</td>\n",
       "      <td>10</td>\n",
       "      <td>1</td>\n",
       "    </tr>\n",
       "    <tr>\n",
       "      <th>2015-09-08 10:20:00</th>\n",
       "      <td>0.500000</td>\n",
       "      <td>0.250000</td>\n",
       "      <td>0.250000</td>\n",
       "      <td>2</td>\n",
       "      <td>10</td>\n",
       "      <td>1</td>\n",
       "    </tr>\n",
       "    <tr>\n",
       "      <th>2015-09-08 10:25:00</th>\n",
       "      <td>0.400000</td>\n",
       "      <td>0.400000</td>\n",
       "      <td>0.200000</td>\n",
       "      <td>3</td>\n",
       "      <td>10</td>\n",
       "      <td>1</td>\n",
       "    </tr>\n",
       "    <tr>\n",
       "      <th>2015-09-08 10:30:00</th>\n",
       "      <td>0.333333</td>\n",
       "      <td>0.333333</td>\n",
       "      <td>0.333333</td>\n",
       "      <td>2</td>\n",
       "      <td>10</td>\n",
       "      <td>1</td>\n",
       "    </tr>\n",
       "    <tr>\n",
       "      <th>2015-09-08 10:35:00</th>\n",
       "      <td>0.428571</td>\n",
       "      <td>0.428571</td>\n",
       "      <td>0.142857</td>\n",
       "      <td>4</td>\n",
       "      <td>10</td>\n",
       "      <td>1</td>\n",
       "    </tr>\n",
       "    <tr>\n",
       "      <th>2015-09-08 10:40:00</th>\n",
       "      <td>0.375000</td>\n",
       "      <td>0.250000</td>\n",
       "      <td>0.375000</td>\n",
       "      <td>4</td>\n",
       "      <td>10</td>\n",
       "      <td>1</td>\n",
       "    </tr>\n",
       "    <tr>\n",
       "      <th>2015-09-08 10:45:00</th>\n",
       "      <td>0.357143</td>\n",
       "      <td>0.357143</td>\n",
       "      <td>0.285714</td>\n",
       "      <td>8</td>\n",
       "      <td>10</td>\n",
       "      <td>1</td>\n",
       "    </tr>\n",
       "    <tr>\n",
       "      <th>2015-09-08 10:50:00</th>\n",
       "      <td>0.000000</td>\n",
       "      <td>0.000000</td>\n",
       "      <td>1.000000</td>\n",
       "      <td>2</td>\n",
       "      <td>10</td>\n",
       "      <td>1</td>\n",
       "    </tr>\n",
       "    <tr>\n",
       "      <th>2015-09-08 10:55:00</th>\n",
       "      <td>0.250000</td>\n",
       "      <td>0.375000</td>\n",
       "      <td>0.375000</td>\n",
       "      <td>6</td>\n",
       "      <td>10</td>\n",
       "      <td>1</td>\n",
       "    </tr>\n",
       "    <tr>\n",
       "      <th>2015-09-08 11:00:00</th>\n",
       "      <td>0.500000</td>\n",
       "      <td>0.500000</td>\n",
       "      <td>0.000000</td>\n",
       "      <td>6</td>\n",
       "      <td>11</td>\n",
       "      <td>1</td>\n",
       "    </tr>\n",
       "  </tbody>\n",
       "</table>\n",
       "</div>"
      ],
      "text/plain": [
       "                          FDT       FLT       FTT  totalTweets  hour  \\\n",
       "2015-09-08 10:00:00  0.428571  0.428571  0.142857            4    10   \n",
       "2015-09-08 10:05:00  0.500000  0.500000  0.000000            3    10   \n",
       "2015-09-08 10:10:00  0.421053  0.421053  0.157895            9    10   \n",
       "2015-09-08 10:15:00  0.428571  0.428571  0.142857            5    10   \n",
       "2015-09-08 10:20:00  0.500000  0.250000  0.250000            2    10   \n",
       "2015-09-08 10:25:00  0.400000  0.400000  0.200000            3    10   \n",
       "2015-09-08 10:30:00  0.333333  0.333333  0.333333            2    10   \n",
       "2015-09-08 10:35:00  0.428571  0.428571  0.142857            4    10   \n",
       "2015-09-08 10:40:00  0.375000  0.250000  0.375000            4    10   \n",
       "2015-09-08 10:45:00  0.357143  0.357143  0.285714            8    10   \n",
       "2015-09-08 10:50:00  0.000000  0.000000  1.000000            2    10   \n",
       "2015-09-08 10:55:00  0.250000  0.375000  0.375000            6    10   \n",
       "2015-09-08 11:00:00  0.500000  0.500000  0.000000            6    11   \n",
       "\n",
       "                     dayofweek  \n",
       "2015-09-08 10:00:00          1  \n",
       "2015-09-08 10:05:00          1  \n",
       "2015-09-08 10:10:00          1  \n",
       "2015-09-08 10:15:00          1  \n",
       "2015-09-08 10:20:00          1  \n",
       "2015-09-08 10:25:00          1  \n",
       "2015-09-08 10:30:00          1  \n",
       "2015-09-08 10:35:00          1  \n",
       "2015-09-08 10:40:00          1  \n",
       "2015-09-08 10:45:00          1  \n",
       "2015-09-08 10:50:00          1  \n",
       "2015-09-08 10:55:00          1  \n",
       "2015-09-08 11:00:00          1  "
      ]
     },
     "execution_count": 42,
     "metadata": {},
     "output_type": "execute_result"
    }
   ],
   "source": [
    "training_DF.drop(['IncidentInfo','ATRW','LRW','DRW','NLT','NTT','NDT','cut'],axis=1)['09-08-2015 10:00:00' : '09-08-2015 11:00:00']"
   ]
  },
  {
   "cell_type": "code",
   "execution_count": 23,
   "metadata": {
    "collapsed": false
   },
   "outputs": [],
   "source": [
    "plot_DF = training_DF['09-08-2015 09:00:00' : '09-09-2015 06:00:00']"
   ]
  },
  {
   "cell_type": "code",
   "execution_count": 24,
   "metadata": {
    "collapsed": false
   },
   "outputs": [],
   "source": [
    "plot_DF = plot_DF.drop(['NDT', 'NLT', 'NTT','ATRW','DRW', 'LRW', 'totalTweets', 'hour', 'dayofweek' ,'cut'],axis=1)"
   ]
  },
  {
   "cell_type": "code",
   "execution_count": 25,
   "metadata": {
    "collapsed": false
   },
   "outputs": [
    {
     "data": {
      "text/plain": [
       "(0, 2)"
      ]
     },
     "execution_count": 25,
     "metadata": {},
     "output_type": "execute_result"
    },
    {
     "data": {
      "image/png": "[encoded data removed]",
      "text/plain": [
       "<matplotlib.figure.Figure at 0x7fbed3cac810>"
      ]
     },
     "metadata": {},
     "output_type": "display_data"
    },
    {
     "data": {
      "image/png": "[encoded data removed]",
      "text/plain": [
       "<matplotlib.figure.Figure at 0x7fbed71c2650>"
      ]
     },
     "metadata": {},
     "output_type": "display_data"
    }
   ],
   "source": [
    "# Create the general blog and the \"subplots\" i.e. the bars\n",
    "f, ax1 = plt.subplots(1)#, figsize=(14,8))\n",
    "# Set the bar width\n",
    "bar_width = 0.75\n",
    "\n",
    "# positions of the left bar-boundaries\n",
    "bar_l = [i+1 for i in range(len(plot_DF['FDT']))]\n",
    "\n",
    "# positions of the x-axis ticks (center of the bars as bar labels)\n",
    "tick_pos = [i+(bar_width/2) for i in bar_l]\n",
    "\n",
    "# Create a bar plot, in position bar_1\n",
    "ax1.bar(bar_l,\n",
    "        # using the pre_score data\n",
    "        plot_DF['FDT'],\n",
    "        # set the width\n",
    "        width=bar_width,\n",
    "        # with the label pre score\n",
    "        label='Delay Related Tweets',\n",
    "        # with alpha 0.5\n",
    "        alpha=0.5,\n",
    "        # with color\n",
    "        color='k')\n",
    "\n",
    "# Create a bar plot, in position bar_1\n",
    "ax1.bar(bar_l,\n",
    "        # using the mid_score data\n",
    "        plot_DF['FLT'],\n",
    "        # set the width\n",
    "        width=bar_width,\n",
    "        # with pre_score on the bottom\n",
    "        bottom=plot_DF['FDT'],\n",
    "        # with the label mid score\n",
    "        label='Metro Line Related Tweets',\n",
    "        # with alpha 0.5\n",
    "        alpha=0.5,\n",
    "        # with color\n",
    "        color='b')\n",
    "\n",
    "# Create a bar plot, in position bar_1\n",
    "ax1.bar(bar_l,\n",
    "        # using the post_score data\n",
    "        plot_DF['FTT'],\n",
    "        # set the width\n",
    "        width=bar_width,\n",
    "        # with pre_score and mid_score on the bottom\n",
    "        bottom=[i+j for i,j in zip(plot_DF['FDT'],plot_DF['FLT'])],\n",
    "        # with the label post score\n",
    "        label='Complaint Tweets',\n",
    "        # with alpha 0.5\n",
    "        alpha=0.5,\n",
    "        # with color\n",
    "        color='y')\n",
    "\n",
    "# set the x ticks with names\n",
    "plt.xticks(tick_pos, plot_DF.index)\n",
    "ax1.get_xaxis().set_visible(False)\n",
    "# Set the label and legends\n",
    "ax1.set_ylabel(\"\")\n",
    "ax1.set_xlabel(\"\")\n",
    "plt.legend(loc='upper right', bbox_to_anchor=(1.2, 1.0))\n",
    "plt.title('Distribution of Tweets in Categories')\n",
    "\n",
    "# Set a buffer around the edge\n",
    "plt.xlim([min(tick_pos)-bar_width, max(tick_pos)+bar_width])\n",
    "plt.subplots(1)#, figsize=(14,8))\n",
    "ii, = plt.plot(plot_DF.index,plot_DF.IncidentInfo,'o',color='g')\n",
    "plt.legend([ii], ['5+ minute delay'], loc='upper right', bbox_to_anchor=(1.2, 1.0))\n",
    "plt.ylim(0,2)"
   ]
  },
  {
   "cell_type": "markdown",
   "metadata": {},
   "source": [
    "## Train a Random Forest classifier"
   ]
  },
  {
   "cell_type": "code",
   "execution_count": 26,
   "metadata": {
    "collapsed": false
   },
   "outputs": [
    {
     "name": "stdout",
     "output_type": "stream",
     "text": [
      "Fraction of data containing delays: 0.033\n"
     ]
    }
   ],
   "source": [
    "print \"Fraction of data containing delays: %.3f\" % float(sum(training_DF['IncidentInfo'])/len(training_DF))"
   ]
  },
  {
   "cell_type": "markdown",
   "metadata": {},
   "source": [
    "### We are confronted with the problem of rare events - this can be addressed through a class-weighted Random Forest:  http://statistics.berkeley.edu/sites/default/files/tech-reports/666.pdf"
   ]
  },
  {
   "cell_type": "code",
   "execution_count": 27,
   "metadata": {
    "collapsed": false
   },
   "outputs": [],
   "source": [
    "x_train_data = training_DF.drop(['IncidentInfo','ATRW','LRW','DRW','NLT','NTT','NDT','cut'],axis=1) # \n",
    "y_train_data = training_DF['IncidentInfo']"
   ]
  },
  {
   "cell_type": "code",
   "execution_count": 28,
   "metadata": {
    "collapsed": false
   },
   "outputs": [],
   "source": [
    "from sklearn.cross_validation import train_test_split\n",
    "x_train, x_test, y_train, y_test = train_test_split(x_train_data, y_train_data, test_size=0.1, random_state=1337)"
   ]
  },
  {
   "cell_type": "code",
   "execution_count": 29,
   "metadata": {
    "collapsed": false
   },
   "outputs": [],
   "source": [
    "from sklearn.ensemble import RandomForestClassifier\n",
    "from sklearn.grid_search import GridSearchCV\n",
    "clf = RandomForestClassifier()\n",
    "parameters = {'n_estimators' : [2**n for n in range(0,8)], 'class_weight' : [{0 : 1, 1 : 3**n} for n in range(0,8)]}\n",
    "gscv = GridSearchCV(clf, parameters, scoring='f1')"
   ]
  },
  {
   "cell_type": "code",
   "execution_count": 30,
   "metadata": {
    "collapsed": true
   },
   "outputs": [
    {
     "data": {
      "text/plain": [
       "GridSearchCV(cv=None, error_score='raise',\n",
       "       estimator=RandomForestClassifier(bootstrap=True, class_weight=None, criterion='gini',\n",
       "            max_depth=None, max_features='auto', max_leaf_nodes=None,\n",
       "            min_samples_leaf=1, min_samples_split=2,\n",
       "            min_weight_fraction_leaf=0.0, n_estimators=10, n_jobs=1,\n",
       "            oob_score=False, random_state=None, verbose=0,\n",
       "            warm_start=False),\n",
       "       fit_params={}, iid=True, loss_func=None, n_jobs=1,\n",
       "       param_grid={'n_estimators': [1, 2, 4, 8, 16, 32, 64, 128], 'class_weight': [{0: 1, 1: 1}, {0: 1, 1: 3}, {0: 1, 1: 9}, {0: 1, 1: 27}, {0: 1, 1: 81}, {0: 1, 1: 243}, {0: 1, 1: 729}, {0: 1, 1: 2187}]},\n",
       "       pre_dispatch='2*n_jobs', refit=True, score_func=None, scoring='f1',\n",
       "       verbose=0)"
      ]
     },
     "execution_count": 30,
     "metadata": {},
     "output_type": "execute_result"
    }
   ],
   "source": [
    "gscv.fit(x_train, y_train)"
   ]
  },
  {
   "cell_type": "code",
   "execution_count": 31,
   "metadata": {
    "collapsed": false
   },
   "outputs": [
    {
     "data": {
      "text/plain": [
       "RandomForestClassifier(bootstrap=True, class_weight={0: 1, 1: 27},\n",
       "            criterion='gini', max_depth=None, max_features='auto',\n",
       "            max_leaf_nodes=None, min_samples_leaf=1, min_samples_split=2,\n",
       "            min_weight_fraction_leaf=0.0, n_estimators=64, n_jobs=1,\n",
       "            oob_score=False, random_state=None, verbose=0,\n",
       "            warm_start=False)"
      ]
     },
     "execution_count": 31,
     "metadata": {},
     "output_type": "execute_result"
    }
   ],
   "source": [
    "gscv.best_estimator_"
   ]
  },
  {
   "cell_type": "markdown",
   "metadata": {},
   "source": [
    "## Make a prediction!"
   ]
  },
  {
   "cell_type": "code",
   "execution_count": 32,
   "metadata": {
    "collapsed": false
   },
   "outputs": [],
   "source": [
    "y_pred = gscv.best_estimator_.predict(x_test)"
   ]
  },
  {
   "cell_type": "code",
   "execution_count": 33,
   "metadata": {
    "collapsed": false
   },
   "outputs": [
    {
     "name": "stdout",
     "output_type": "stream",
     "text": [
      "predicted 314.0 actual 49.0\n",
      "Accuracy: 0.808883693746\n",
      "Precision: 0.367346938776\n",
      "Recall: 0.0573248407643\n",
      "F1: 0.099173553719\n"
     ]
    }
   ],
   "source": [
    "from sklearn import metrics\n",
    "print 'predicted', sum(y_pred), 'actual', sum(y_test)\n",
    "print \"Accuracy:\", metrics.accuracy_score(y_pred, y_test)\n",
    "print \"Precision:\", metrics.precision_score(y_pred, y_test)\n",
    "print \"Recall:\", metrics.recall_score(y_pred, y_test)\n",
    "print \"F1:\", metrics.f1_score(y_pred, y_test)"
   ]
  },
  {
   "cell_type": "code",
   "execution_count": 34,
   "metadata": {
    "collapsed": false
   },
   "outputs": [
    {
     "data": {
      "text/plain": [
       "(0, 2)"
      ]
     },
     "execution_count": 34,
     "metadata": {},
     "output_type": "execute_result"
    },
    {
     "data": {
      "image/png": "[encoded data removed]",
      "text/plain": [
       "<matplotlib.figure.Figure at 0x7fbecc55ef50>"
      ]
     },
     "metadata": {},
     "output_type": "display_data"
    }
   ],
   "source": [
    "y_dict = {'pred' : y_pred, 'test' : y_test.values}\n",
    "y_DF = pd.DataFrame(y_dict)\n",
    "y_DF.index = y_test.index\n",
    "time = y_DF.index.values\n",
    "predicted = y_DF['pred'].values\n",
    "actual = y_DF['test'].values\n",
    "pred_plot, = plt.plot(time,predicted,'.',color='r')\n",
    "act_plot, = plt.plot(time,actual,'.',color='k')\n",
    "plt.legend([pred_plot, act_plot], ['predicted delays', 'actual delays'],loc='upper left')\n",
    "plt.ylim(0,2)"
   ]
  },
  {
   "cell_type": "markdown",
   "metadata": {},
   "source": [
    "## OK, which features seem to matter the most?"
   ]
  },
  {
   "cell_type": "code",
   "execution_count": 71,
   "metadata": {
    "collapsed": false
   },
   "outputs": [
    {
     "data": {
      "text/plain": [
       "<matplotlib.axes._subplots.AxesSubplot at 0x7fbecc83dd50>"
      ]
     },
     "execution_count": 71,
     "metadata": {},
     "output_type": "execute_result"
    },
    {
     "data": {
      "image/png": "[encoded data removed]",
      "text/plain": [
       "<matplotlib.figure.Figure at 0x7fbeceec92d0>"
      ]
     },
     "metadata": {},
     "output_type": "display_data"
    }
   ],
   "source": [
    "x_bar = x_train_data.columns.tolist()\n",
    "y_bar = gscv.best_estimator_.feature_importances_\n",
    "bar_dict = {'x' : x_bar , 'y' : y_bar}\n",
    "bar_DF = pd.DataFrame(bar_dict)\n",
    "bar_DF.plot(kind='bar')"
   ]
  },
  {
   "cell_type": "code",
   "execution_count": null,
   "metadata": {
    "collapsed": true
   },
   "outputs": [],
   "source": []
  }
 ],
 "metadata": {
  "kernelspec": {
   "display_name": "Python 2",
   "language": "python",
   "name": "python2"
  },
  "language_info": {
   "codemirror_mode": {
    "name": "ipython",
    "version": 2
   },
   "file_extension": ".py",
   "mimetype": "text/x-python",
   "name": "python",
   "nbconvert_exporter": "python",
   "pygments_lexer": "ipython2",
   "version": "2.7.10"
  }
 },
 "nbformat": 4,
 "nbformat_minor": 0
}
